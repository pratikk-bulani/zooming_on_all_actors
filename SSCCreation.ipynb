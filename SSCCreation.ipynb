{
 "cells": [
  {
   "cell_type": "markdown",
   "metadata": {},
   "source": [
    "# Import libraries"
   ]
  },
  {
   "cell_type": "code",
   "execution_count": 1,
   "metadata": {},
   "outputs": [],
   "source": [
    "import numpy as np\n",
    "import cv2\n",
    "import pickle"
   ]
  },
  {
   "cell_type": "markdown",
   "metadata": {},
   "source": [
    "# Global variables"
   ]
  },
  {
   "cell_type": "code",
   "execution_count": 2,
   "metadata": {},
   "outputs": [],
   "source": [
    "DATASET_FOLDER = \"../theatre_dataset/\"\n",
    "VIDEO_FOLDER = \"braunfels_1\"\n",
    "ASPECT_RATIO = 0.95 # 4/3 for carol_2, 0.95 for braunfels_1\n",
    "OUTPUT_VIDEO_SIZE = (np.ceil(1280 / ASPECT_RATIO).astype(np.int16), 1280) # height, width"
   ]
  },
  {
   "cell_type": "markdown",
   "metadata": {},
   "source": [
    "# Load files"
   ]
  },
  {
   "cell_type": "code",
   "execution_count": 3,
   "metadata": {},
   "outputs": [],
   "source": [
    "file_video_input = cv2.VideoCapture(DATASET_FOLDER + VIDEO_FOLDER + \"/\" + VIDEO_FOLDER + \".mp4\")\n",
    "VIDEO_INPUT_CODEC = int(file_video_input.get(cv2.CAP_PROP_FOURCC)) # not working\n",
    "VIDEO_INPUT_FRAME_SIZE = (int(file_video_input.get(cv2.CAP_PROP_FRAME_WIDTH)), int(file_video_input.get(cv2.CAP_PROP_FRAME_HEIGHT)))\n",
    "VIDEO_INPUT_FPS = file_video_input.get(cv2.CAP_PROP_FPS)\n",
    "VIDEO_INPUT_FRAMES_COUNT = int(file_video_input.get(cv2.CAP_PROP_FRAME_COUNT))\n",
    "file_video_input.release()"
   ]
  },
  {
   "cell_type": "code",
   "execution_count": 4,
   "metadata": {},
   "outputs": [
    {
     "data": {
      "text/plain": [
       "(828601953, (3840, 2160), 29.97002997002997, 2278)"
      ]
     },
     "execution_count": 4,
     "metadata": {},
     "output_type": "execute_result"
    }
   ],
   "source": [
    "VIDEO_INPUT_CODEC, VIDEO_INPUT_FRAME_SIZE, VIDEO_INPUT_FPS, VIDEO_INPUT_FRAMES_COUNT"
   ]
  },
  {
   "cell_type": "markdown",
   "metadata": {},
   "source": [
    "# Load the selected layouts and virtual camera positions"
   ]
  },
  {
   "cell_type": "code",
   "execution_count": 5,
   "metadata": {},
   "outputs": [],
   "source": [
    "with open(DATASET_FOLDER + VIDEO_FOLDER + \"/selected_layouts.pkl\", \"rb\") as f:\n",
    "    selected_layouts = pickle.load(f)\n",
    "with open(DATASET_FOLDER + VIDEO_FOLDER + \"/virtual_camera_positions.pkl\", \"rb\") as f:\n",
    "    virtual_camera_positions = pickle.load(f)"
   ]
  },
  {
   "cell_type": "markdown",
   "metadata": {},
   "source": [
    "# Save the result"
   ]
  },
  {
   "cell_type": "code",
   "execution_count": 6,
   "metadata": {},
   "outputs": [],
   "source": [
    "file_video_input = cv2.VideoCapture(DATASET_FOLDER + VIDEO_FOLDER + \"/\" + VIDEO_FOLDER + \".mp4\")\n",
    "file_video_output = cv2.VideoWriter(DATASET_FOLDER + VIDEO_FOLDER + \"/\" + 'output_ssc_video.mp4', cv2.VideoWriter_fourcc(*'mp4v'), VIDEO_INPUT_FPS, OUTPUT_VIDEO_SIZE[::-1])\n",
    "for i in range(VIDEO_INPUT_FRAMES_COUNT):\n",
    "    success, img_frame = file_video_input.read()\n",
    "    img_frame_output = np.zeros(shape = OUTPUT_VIDEO_SIZE + (3, )).astype(np.uint8)\n",
    "    # print(virtual_camera_positions[i], selected_layouts[i])\n",
    "\n",
    "    if selected_layouts[i] == 0:\n",
    "        coordinates = np.rint(virtual_camera_positions[i][0]).astype(np.int16)\n",
    "        view_1 = img_frame[coordinates[1]-coordinates[2]:coordinates[1]+coordinates[2]+1, int(np.rint(coordinates[0]-ASPECT_RATIO*coordinates[2])):int(np.rint(coordinates[0]+ASPECT_RATIO*coordinates[2]))+1]\n",
    "        view_2 = img_frame[coordinates[4]-coordinates[5]:coordinates[4]+coordinates[5]+1, int(np.rint(coordinates[3]-ASPECT_RATIO*coordinates[5])):int(np.rint(coordinates[3]+ASPECT_RATIO*coordinates[5]))+1]\n",
    "        view_3 = img_frame[coordinates[7]-coordinates[8]:coordinates[7]+coordinates[8]+1, int(np.rint(coordinates[6]-ASPECT_RATIO*coordinates[8])):int(np.rint(coordinates[6]+ASPECT_RATIO*coordinates[8]))+1]\n",
    "\n",
    "        view_1 = cv2.resize(view_1, (426, np.ceil(426 / ASPECT_RATIO).astype(np.int16)))\n",
    "        view_2 = cv2.resize(view_2, (426, np.ceil(426 / ASPECT_RATIO).astype(np.int16)))\n",
    "        view_3 = cv2.resize(view_3, (426, np.ceil(426 / ASPECT_RATIO).astype(np.int16)))\n",
    "\n",
    "        row_start_no_1 = (OUTPUT_VIDEO_SIZE[0] - view_1.shape[0]) // 2\n",
    "        row_start_no_2 = (OUTPUT_VIDEO_SIZE[0] - view_2.shape[0]) // 2\n",
    "        row_start_no_3 = (OUTPUT_VIDEO_SIZE[0] - view_3.shape[0]) // 2\n",
    "        img_frame_output[row_start_no_1:row_start_no_1+view_1.shape[0], :view_1.shape[1]] = view_1\n",
    "        img_frame_output[row_start_no_2:row_start_no_2+view_2.shape[0], view_1.shape[1]+1:view_1.shape[1]+1+view_2.shape[1]] = view_2\n",
    "        img_frame_output[row_start_no_3:row_start_no_3+view_3.shape[0], view_1.shape[1]+view_2.shape[1]+2:view_1.shape[1]+view_2.shape[1]+2+view_3.shape[1]] = view_3\n",
    "    \n",
    "    elif selected_layouts[i] == 1:\n",
    "        coordinates = np.rint(virtual_camera_positions[i][0]).astype(np.int16)\n",
    "        view_1 = img_frame[coordinates[1]-coordinates[2]:coordinates[1]+coordinates[2]+1, int(np.rint(coordinates[0]-ASPECT_RATIO*coordinates[2])):int(np.rint(coordinates[0]+ASPECT_RATIO*coordinates[2]))+1]\n",
    "        coordinates = np.rint(virtual_camera_positions[i][1]).astype(np.int16)\n",
    "        view_2 = img_frame[coordinates[1]-coordinates[2]:coordinates[1]+coordinates[2]+1, int(np.rint(coordinates[0]-ASPECT_RATIO*coordinates[2])):int(np.rint(coordinates[0]+ASPECT_RATIO*coordinates[2]))+1]\n",
    "\n",
    "        view_1 = cv2.resize(view_1, (853, np.ceil(853 / ASPECT_RATIO).astype(np.int16)))\n",
    "        view_2 = cv2.resize(view_2, (426, np.ceil(426 / ASPECT_RATIO).astype(np.int16)))\n",
    "\n",
    "        row_start_no_1 = (OUTPUT_VIDEO_SIZE[0] - view_1.shape[0]) // 2\n",
    "        row_start_no_2 = (OUTPUT_VIDEO_SIZE[0] - view_2.shape[0]) // 2\n",
    "        img_frame_output[row_start_no_1:row_start_no_1+view_1.shape[0], :view_1.shape[1]] = view_1\n",
    "        img_frame_output[row_start_no_2:row_start_no_2+view_2.shape[0], view_1.shape[1]+1:view_1.shape[1]+1+view_2.shape[1]] = view_2\n",
    "    elif selected_layouts[i] == 2:\n",
    "        coordinates = np.rint(virtual_camera_positions[i][1]).astype(np.int16)\n",
    "        view_1 = img_frame[coordinates[1]-coordinates[2]:coordinates[1]+coordinates[2]+1, int(np.rint(coordinates[0]-ASPECT_RATIO*coordinates[2])):int(np.rint(coordinates[0]+ASPECT_RATIO*coordinates[2]))+1]\n",
    "        coordinates = np.rint(virtual_camera_positions[i][0]).astype(np.int16)\n",
    "        view_2 = img_frame[coordinates[1]-coordinates[2]:coordinates[1]+coordinates[2]+1, int(np.rint(coordinates[0]-ASPECT_RATIO*coordinates[2])):int(np.rint(coordinates[0]+ASPECT_RATIO*coordinates[2]))+1]\n",
    "\n",
    "        view_1 = cv2.resize(view_1, (426, np.ceil(426 / ASPECT_RATIO).astype(np.int16)))\n",
    "        view_2 = cv2.resize(view_2, (853, np.ceil(853 / ASPECT_RATIO).astype(np.int16)))\n",
    "\n",
    "        row_start_no_1 = (OUTPUT_VIDEO_SIZE[0] - view_1.shape[0]) // 2\n",
    "        row_start_no_2 = (OUTPUT_VIDEO_SIZE[0] - view_2.shape[0]) // 2\n",
    "        img_frame_output[row_start_no_1:row_start_no_1+view_1.shape[0], :view_1.shape[1]] = view_1\n",
    "        img_frame_output[row_start_no_2:row_start_no_2+view_2.shape[0], view_1.shape[1]+1:view_1.shape[1]+1+view_2.shape[1]] = view_2\n",
    "    elif selected_layouts[i] == 3:\n",
    "        coordinates = np.rint(virtual_camera_positions[i][0]).astype(np.int16)\n",
    "        view_1 = img_frame[coordinates[1]-coordinates[2]:coordinates[1]+coordinates[2]+1, int(np.rint(coordinates[0]-ASPECT_RATIO*coordinates[2])):int(np.rint(coordinates[0]+ASPECT_RATIO*coordinates[2]))+1]\n",
    "\n",
    "        view_1 = cv2.resize(view_1, (1280, np.ceil(1280 / ASPECT_RATIO).astype(np.int16)))\n",
    "\n",
    "        row_start_no_1 = (OUTPUT_VIDEO_SIZE[0] - view_1.shape[0]) // 2\n",
    "        img_frame_output[row_start_no_1:row_start_no_1+view_1.shape[0], :view_1.shape[1]] = view_1\n",
    "    file_video_output.write(img_frame_output)\n",
    "file_video_input.release()\n",
    "file_video_output.release()"
   ]
  },
  {
   "cell_type": "code",
   "execution_count": null,
   "metadata": {},
   "outputs": [],
   "source": []
  }
 ],
 "metadata": {
  "interpreter": {
   "hash": "d8444844a564d5f7966954b32229d18f1d875f0f75a6a38ef4ed637ba8d6d479"
  },
  "kernelspec": {
   "display_name": "Python 3.8.8 64-bit ('base': conda)",
   "name": "python3"
  },
  "language_info": {
   "codemirror_mode": {
    "name": "ipython",
    "version": 3
   },
   "file_extension": ".py",
   "mimetype": "text/x-python",
   "name": "python",
   "nbconvert_exporter": "python",
   "pygments_lexer": "ipython3",
   "version": "3.8.12"
  },
  "orig_nbformat": 2
 },
 "nbformat": 4,
 "nbformat_minor": 2
}
